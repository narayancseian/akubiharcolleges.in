{
 "cells": [
  {
   "cell_type": "code",
   "execution_count": 1,
   "metadata": {},
   "outputs": [
    {
     "name": "stdout",
     "output_type": "stream",
     "text": [
      "<module 'sqlite3' from 'C:\\\\Users\\\\useev\\\\Anaconda3\\\\lib\\\\sqlite3\\\\__init__.py'>\n"
     ]
    }
   ],
   "source": [
    "import sqlite3 as db\n",
    "print(db)"
   ]
  },
  {
   "cell_type": "code",
   "execution_count": 29,
   "metadata": {
    "scrolled": false
   },
   "outputs": [
    {
     "name": "stdout",
     "output_type": "stream",
     "text": [
      "table created\n",
      "record inserted\n",
      "record inserted\n",
      "(103, 'Abhishek', 'useev@gmail.com', '263672', 'cse', '200-12-12', '4th', 'patna', 'm')\n",
      "(104, 'Aalok', 'useedv@gmail.com', '23363672', 'cse', '200-2-12', '4th', 'patna', 'm')\n"
     ]
    },
    {
     "ename": "NameError",
     "evalue": "name 'viewlogic' is not defined",
     "output_type": "error",
     "traceback": [
      "\u001b[1;31m---------------------------------------------------------------------------\u001b[0m",
      "\u001b[1;31mNameError\u001b[0m                                 Traceback (most recent call last)",
      "\u001b[1;32m<ipython-input-29-10a458d58260>\u001b[0m in \u001b[0;36m<module>\u001b[1;34m\u001b[0m\n\u001b[0;32m     34\u001b[0m \u001b[1;32mfor\u001b[0m \u001b[0mrow\u001b[0m \u001b[1;32min\u001b[0m \u001b[0mrs\u001b[0m\u001b[1;33m:\u001b[0m\u001b[1;33m\u001b[0m\u001b[1;33m\u001b[0m\u001b[0m\n\u001b[0;32m     35\u001b[0m     \u001b[0mprint\u001b[0m\u001b[1;33m(\u001b[0m\u001b[0mrow\u001b[0m\u001b[1;33m)\u001b[0m\u001b[1;33m\u001b[0m\u001b[1;33m\u001b[0m\u001b[0m\n\u001b[1;32m---> 36\u001b[1;33m \u001b[0mviewlogic\u001b[0m\u001b[1;33m(\u001b[0m\u001b[1;33m)\u001b[0m\u001b[1;33m\u001b[0m\u001b[1;33m\u001b[0m\u001b[0m\n\u001b[0m\u001b[0;32m     37\u001b[0m \u001b[0mcur\u001b[0m\u001b[1;33m.\u001b[0m\u001b[0mclose\u001b[0m\u001b[1;33m(\u001b[0m\u001b[1;33m)\u001b[0m\u001b[1;33m\u001b[0m\u001b[1;33m\u001b[0m\u001b[0m\n\u001b[0;32m     38\u001b[0m \u001b[0mconn\u001b[0m\u001b[1;33m.\u001b[0m\u001b[0mclose\u001b[0m\u001b[1;33m(\u001b[0m\u001b[1;33m)\u001b[0m\u001b[1;33m\u001b[0m\u001b[1;33m\u001b[0m\u001b[0m\n",
      "\u001b[1;31mNameError\u001b[0m: name 'viewlogic' is not defined"
     ]
    }
   ],
   "source": [
    "conn=db.connect(\":memory:\")\n",
    "cur=conn.cursor()\n",
    "crquery=\"\"\"create table if not exists student\n",
    "           (rollno int primary key,\n",
    "           name varchar(20),\n",
    "           email varchar(20),\n",
    "           contact varchar(20),\n",
    "           branch varchar(10),\n",
    "           dob date,\n",
    "           sem varchar(10),\n",
    "           address Varchar(100),\n",
    "           gender char(1)\n",
    "           )\n",
    "      \"\"\"\n",
    "\n",
    "if cur.execute(crquery):\n",
    "    print(\"table created\")\n",
    "    \n",
    "    \n",
    "insquery=f\"insert into student values(103,'Abhishek','useev@gmail.com','263672','cse','200-12-12','4th','patna','m')\"\n",
    "if cur.execute(insquery):\n",
    "    print(\"record inserted\")\n",
    "conn.commit()\n",
    "\n",
    "insquery=f\"insert into student values(104,'Aalok','useedv@gmail.com','23363672','cse','200-2-12','4th','patna','m')\"\n",
    "if cur.execute(insquery):\n",
    "    print(\"record inserted\")\n",
    "    conn.commit()\n",
    "    \n",
    "viewquery=\"\"\"select * from student\"\"\"\n",
    "cur.execute(viewquery)\n",
    "\n",
    "rs=cur.fetchall()\n",
    "for row in rs:\n",
    "    print(row)\n",
    "viewlogic()\n",
    "cur.close()\n",
    "conn.close()\n"
   ]
  },
  {
   "cell_type": "code",
   "execution_count": null,
   "metadata": {},
   "outputs": [],
   "source": []
  },
  {
   "cell_type": "code",
   "execution_count": null,
   "metadata": {},
   "outputs": [],
   "source": []
  },
  {
   "cell_type": "code",
   "execution_count": null,
   "metadata": {},
   "outputs": [],
   "source": []
  }
 ],
 "metadata": {
  "kernelspec": {
   "display_name": "Python 3",
   "language": "python",
   "name": "python3"
  },
  "language_info": {
   "codemirror_mode": {
    "name": "ipython",
    "version": 3
   },
   "file_extension": ".py",
   "mimetype": "text/x-python",
   "name": "python",
   "nbconvert_exporter": "python",
   "pygments_lexer": "ipython3",
   "version": "3.7.4"
  }
 },
 "nbformat": 4,
 "nbformat_minor": 2
}
